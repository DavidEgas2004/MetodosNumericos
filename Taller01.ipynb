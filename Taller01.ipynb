{
  "nbformat": 4,
  "nbformat_minor": 0,
  "metadata": {
    "colab": {
      "provenance": [],
      "authorship_tag": "ABX9TyOwFr2iRod8RY8CO5o1tmft",
      "include_colab_link": true
    },
    "kernelspec": {
      "name": "python3",
      "display_name": "Python 3"
    },
    "language_info": {
      "name": "python"
    }
  },
  "cells": [
    {
      "cell_type": "markdown",
      "metadata": {
        "id": "view-in-github",
        "colab_type": "text"
      },
      "source": [
        "<a href=\"https://colab.research.google.com/github/DavidEgas2004/MetodosNumericos/blob/main/Taller01.ipynb\" target=\"_parent\"><img src=\"https://colab.research.google.com/assets/colab-badge.svg\" alt=\"Open In Colab\"/></a>"
      ]
    },
    {
      "cell_type": "markdown",
      "source": [
        "### Taller 01\n"
      ],
      "metadata": {
        "id": "HvRzHRUf57rb"
      }
    },
    {
      "cell_type": "markdown",
      "source": [
        "Tarea graficar la siguiente funcion\n",
        "F(X)= $$X**3="
      ],
      "metadata": {
        "id": "0Up_hWecHQAR"
      }
    },
    {
      "cell_type": "code",
      "execution_count": null,
      "metadata": {
        "id": "Q-AD5lKpxQA7"
      },
      "outputs": [],
      "source": [
        "\n"
      ]
    }
  ]
}