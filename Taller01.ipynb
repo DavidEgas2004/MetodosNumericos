{
  "nbformat": 4,
  "nbformat_minor": 0,
  "metadata": {
    "colab": {
      "provenance": [],
      "authorship_tag": "ABX9TyNbh8wgkc0W90r/uG7dkPDl",
      "include_colab_link": true
    },
    "kernelspec": {
      "name": "python3",
      "display_name": "Python 3"
    },
    "language_info": {
      "name": "python"
    }
  },
  "cells": [
    {
      "cell_type": "markdown",
      "metadata": {
        "id": "view-in-github",
        "colab_type": "text"
      },
      "source": [
        "<a href=\"https://colab.research.google.com/github/DavidEgas2004/MetodosNumericos/blob/main/Taller01.ipynb\" target=\"_parent\"><img src=\"https://colab.research.google.com/assets/colab-badge.svg\" alt=\"Open In Colab\"/></a>"
      ]
    },
    {
      "cell_type": "markdown",
      "source": [
        "### Taller 01\n"
      ],
      "metadata": {
        "id": "HvRzHRUf57rb"
      }
    },
    {
      "cell_type": "markdown",
      "source": [
        "# Tarea graficar la siguiente funcion\n",
        "F(X)= $$X^3-7X^2+4X+12$$\n",
        "\n",
        "### RECOMENDACIONES\n",
        "\n",
        "Hacer la tabla de valores  \n",
        "\n",
        "\n"
      ],
      "metadata": {
        "id": "0Up_hWecHQAR"
      }
    },
    {
      "cell_type": "code",
      "execution_count": 1,
      "metadata": {
        "id": "Q-AD5lKpxQA7"
      },
      "outputs": [],
      "source": [
        "\n",
        "def eqn(x: int) -> int:\n",
        "    return x**3 - 7 * x**2 + 4 * x + 12\n"
      ]
    },
    {
      "cell_type": "code",
      "source": [
        "# generación de puntos para la gráfica\n",
        "import numpy as np\n",
        "\n",
        "Xs, step = np.linspace(-10, 10, num=50, retstep=True)"
      ],
      "metadata": {
        "id": "fULbZZsRTL2m"
      },
      "execution_count": 6,
      "outputs": []
    },
    {
      "cell_type": "code",
      "source": [
        "Ys = []\n",
        "for x in Xs:\n",
        "    y = eqn(x)\n",
        "    # Xs.append(x)\n",
        "    Ys.append(y)\n",
        "    print(f\"x = {x:.2f} \\ty = {y:.2e}\")\n",
        "Ys"
      ],
      "metadata": {
        "colab": {
          "base_uri": "https://localhost:8080/"
        },
        "id": "CNMaM9ImTOx8",
        "outputId": "bbf51d7e-d627-4a65-d2b2-ef1a8a705a1a"
      },
      "execution_count": 7,
      "outputs": [
        {
          "output_type": "stream",
          "name": "stdout",
          "text": [
            "x = -10.00 \ty = -1.73e+03\n",
            "x = -9.59 \ty = -1.55e+03\n",
            "x = -9.18 \ty = -1.39e+03\n",
            "x = -8.78 \ty = -1.24e+03\n",
            "x = -8.37 \ty = -1.10e+03\n",
            "x = -7.96 \ty = -9.67e+02\n",
            "x = -7.55 \ty = -8.48e+02\n",
            "x = -7.14 \ty = -7.38e+02\n",
            "x = -6.73 \ty = -6.38e+02\n",
            "x = -6.33 \ty = -5.47e+02\n",
            "x = -5.92 \ty = -4.64e+02\n",
            "x = -5.51 \ty = -3.90e+02\n",
            "x = -5.10 \ty = -3.23e+02\n",
            "x = -4.69 \ty = -2.64e+02\n",
            "x = -4.29 \ty = -2.12e+02\n",
            "x = -3.88 \ty = -1.67e+02\n",
            "x = -3.47 \ty = -1.28e+02\n",
            "x = -3.06 \ty = -9.45e+01\n",
            "x = -2.65 \ty = -6.66e+01\n",
            "x = -2.24 \ty = -4.36e+01\n",
            "x = -1.84 \ty = -2.52e+01\n",
            "x = -1.43 \ty = -1.09e+01\n",
            "x = -1.02 \ty = -4.33e-01\n",
            "x = -0.61 \ty = 6.70e+00\n",
            "x = -0.20 \ty = 1.09e+01\n",
            "x = 0.20 \ty = 1.25e+01\n",
            "x = 0.61 \ty = 1.21e+01\n",
            "x = 1.02 \ty = 9.86e+00\n",
            "x = 1.43 \ty = 6.34e+00\n",
            "x = 1.84 \ty = 1.93e+00\n",
            "x = 2.24 \ty = -2.98e+00\n",
            "x = 2.65 \ty = -7.98e+00\n",
            "x = 3.06 \ty = -1.27e+01\n",
            "x = 3.47 \ty = -1.66e+01\n",
            "x = 3.88 \ty = -1.94e+01\n",
            "x = 4.29 \ty = -2.07e+01\n",
            "x = 4.69 \ty = -2.00e+01\n",
            "x = 5.10 \ty = -1.70e+01\n",
            "x = 5.51 \ty = -1.12e+01\n",
            "x = 5.92 \ty = -2.21e+00\n",
            "x = 6.33 \ty = 1.04e+01\n",
            "x = 6.73 \ty = 2.69e+01\n",
            "x = 7.14 \ty = 4.79e+01\n",
            "x = 7.55 \ty = 7.36e+01\n",
            "x = 7.96 \ty = 1.05e+02\n",
            "x = 8.37 \ty = 1.41e+02\n",
            "x = 8.78 \ty = 1.84e+02\n",
            "x = 9.18 \ty = 2.33e+02\n",
            "x = 9.59 \ty = 2.89e+02\n",
            "x = 10.00 \ty = 3.52e+02\n"
          ]
        },
        {
          "output_type": "execute_result",
          "data": {
            "text/plain": [
              "[-1728.0,\n",
              " -1552.8716096184417,\n",
              " -1389.6634225535283,\n",
              " -1237.9674455371485,\n",
              " -1097.3756853011923,\n",
              " -967.4801485775486,\n",
              " -847.8728420981054,\n",
              " -738.1457725947521,\n",
              " -637.8909467993778,\n",
              " -546.7003714438713,\n",
              " -464.16605326012115,\n",
              " -389.87999898001675,\n",
              " -323.434215335447,\n",
              " -264.4207090583006,\n",
              " -212.43148688046645,\n",
              " -167.0585555338336,\n",
              " -127.8939217502911,\n",
              " -94.52959226172771,\n",
              " -66.55757380003229,\n",
              " -43.56987309709386,\n",
              " -25.158496884801394,\n",
              " -10.915451895043741,\n",
              " -0.4327448597097927,\n",
              " 6.697617489311435,\n",
              " 10.88362842013107,\n",
              " 12.533281200860186,\n",
              " 12.054569099609859,\n",
              " 9.85548538449115,\n",
              " 6.344023323615158,\n",
              " 1.9281761850929513,\n",
              " -2.9840627629644203,\n",
              " -7.984700252445844,\n",
              " -12.665743015240253,\n",
              " -16.61919778323658,\n",
              " -19.437071288323736,\n",
              " -20.711370262390666,\n",
              " -20.034101437326292,\n",
              " -16.99727154501948,\n",
              " -11.192887317359222,\n",
              " -2.212955486234435,\n",
              " 10.350517216465946,\n",
              " 26.905524058853004,\n",
              " 47.86005830903788,\n",
              " 73.62211323513155,\n",
              " 104.59968210524542,\n",
              " 141.20075818749012,\n",
              " 183.8333347499769,\n",
              " 232.90540506081658,\n",
              " 288.82496238812064,\n",
              " 352.0]"
            ]
          },
          "metadata": {},
          "execution_count": 7
        }
      ]
    },
    {
      "cell_type": "code",
      "source": [
        "from matplotlib import pyplot as plt\n",
        "\n",
        "plt.plot(Xs, Ys, marker=\".\", color=\"red\", linestyle=\":\")\n",
        "plt.xlabel(\"Eje x\")\n",
        "plt.ylabel(\"Eje y\")\n",
        "plt.title(\"Gráfica de función cúbica\")\n",
        "plt.grid()\n",
        "plt.legend([\"$y=x^3-7x^2+4x+12$\"])\n",
        "plt.show()\n",
        "\n",
        "## TAREA hacer zoom de la grafica"
      ],
      "metadata": {
        "colab": {
          "base_uri": "https://localhost:8080/",
          "height": 472
        },
        "id": "drC9iWF8TS9i",
        "outputId": "224279f5-4fb1-4cbd-e450-0df5f2855ad6"
      },
      "execution_count": 8,
      "outputs": [
        {
          "output_type": "display_data",
          "data": {
            "text/plain": [
              "<Figure size 640x480 with 1 Axes>"
            ],
            "image/png": "[encoded data removed]"
          },
          "metadata": {}
        }
      ]
    },
    {
      "cell_type": "code",
      "source": [],
      "metadata": {
        "id": "VD7eR23wTYdL"
      },
      "execution_count": null,
      "outputs": []
    }
  ]
}