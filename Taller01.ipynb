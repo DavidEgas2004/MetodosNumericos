{
  "nbformat": 4,
  "nbformat_minor": 0,
  "metadata": {
    "colab": {
      "provenance": [],
      "authorship_tag": "ABX9TyO1G8bTgvCARB9OZCYcE164",
      "include_colab_link": true
    },
    "kernelspec": {
      "name": "python3",
      "display_name": "Python 3"
    },
    "language_info": {
      "name": "python"
    }
  },
  "cells": [
    {
      "cell_type": "markdown",
      "metadata": {
        "id": "view-in-github",
        "colab_type": "text"
      },
      "source": [
        "<a href=\"https://colab.research.google.com/github/DavidEgas2004/MetodosNumericos/blob/main/Taller01.ipynb\" target=\"_parent\"><img src=\"https://colab.research.google.com/assets/colab-badge.svg\" alt=\"Open In Colab\"/></a>"
      ]
    },
    {
      "cell_type": "markdown",
      "source": [
        "### Taller 01\n"
      ],
      "metadata": {
        "id": "HvRzHRUf57rb"
      }
    },
    {
      "cell_type": "markdown",
      "source": [
        "# Tarea graficar la siguiente funcion\n",
        "F(X)= $$X^3-7X^2+4X+12$$\n",
        "\n",
        "### RECOMENDACIONES\n",
        "\n",
        "Hacer la tabla de valores  \n",
        "\n",
        "\n"
      ],
      "metadata": {
        "id": "0Up_hWecHQAR"
      }
    },
    {
      "cell_type": "code",
      "execution_count": 11,
      "metadata": {
        "id": "Q-AD5lKpxQA7"
      },
      "outputs": [],
      "source": [
        "\n",
        "def eqn(x: int) -> int:\n",
        "    return x**3 - 7 * x**2 + 4 * x + 12\n"
      ]
    },
    {
      "cell_type": "code",
      "source": [
        "# generación de puntos para la gráfica\n",
        "import numpy as np\n",
        "\n",
        "Xs, step = np.linspace(-10, 10, num=100, retstep=True)"
      ],
      "metadata": {
        "id": "fULbZZsRTL2m"
      },
      "execution_count": 12,
      "outputs": []
    },
    {
      "cell_type": "code",
      "source": [
        "Ys = []\n",
        "for x in Xs:\n",
        "    y = eqn(x)\n",
        "    Ys.append(y)\n",
        "    print(f\"x = {x:.2f} \\ty = {y:.2e}\")\n",
        "Ys\n"
      ],
      "metadata": {
        "colab": {
          "base_uri": "https://localhost:8080/"
        },
        "id": "CNMaM9ImTOx8",
        "outputId": "c02e6902-3412-4a51-f820-1c17261eb9f7"
      },
      "execution_count": 13,
      "outputs": [
        {
          "output_type": "stream",
          "name": "stdout",
          "text": [
            "x = -10.00 \ty = -1.73e+03\n",
            "x = -9.80 \ty = -1.64e+03\n",
            "x = -9.60 \ty = -1.55e+03\n",
            "x = -9.39 \ty = -1.47e+03\n",
            "x = -9.19 \ty = -1.39e+03\n",
            "x = -8.99 \ty = -1.32e+03\n",
            "x = -8.79 \ty = -1.24e+03\n",
            "x = -8.59 \ty = -1.17e+03\n",
            "x = -8.38 \ty = -1.10e+03\n",
            "x = -8.18 \ty = -1.04e+03\n",
            "x = -7.98 \ty = -9.74e+02\n",
            "x = -7.78 \ty = -9.13e+02\n",
            "x = -7.58 \ty = -8.55e+02\n",
            "x = -7.37 \ty = -7.99e+02\n",
            "x = -7.17 \ty = -7.46e+02\n",
            "x = -6.97 \ty = -6.94e+02\n",
            "x = -6.77 \ty = -6.46e+02\n",
            "x = -6.57 \ty = -5.99e+02\n",
            "x = -6.36 \ty = -5.55e+02\n",
            "x = -6.16 \ty = -5.12e+02\n",
            "x = -5.96 \ty = -4.72e+02\n",
            "x = -5.76 \ty = -4.34e+02\n",
            "x = -5.56 \ty = -3.98e+02\n",
            "x = -5.35 \ty = -3.63e+02\n",
            "x = -5.15 \ty = -3.31e+02\n",
            "x = -4.95 \ty = -3.01e+02\n",
            "x = -4.75 \ty = -2.72e+02\n",
            "x = -4.55 \ty = -2.45e+02\n",
            "x = -4.34 \ty = -2.19e+02\n",
            "x = -4.14 \ty = -1.96e+02\n",
            "x = -3.94 \ty = -1.74e+02\n",
            "x = -3.74 \ty = -1.53e+02\n",
            "x = -3.54 \ty = -1.34e+02\n",
            "x = -3.33 \ty = -1.16e+02\n",
            "x = -3.13 \ty = -9.99e+01\n",
            "x = -2.93 \ty = -8.49e+01\n",
            "x = -2.73 \ty = -7.13e+01\n",
            "x = -2.53 \ty = -5.88e+01\n",
            "x = -2.32 \ty = -4.76e+01\n",
            "x = -2.12 \ty = -3.75e+01\n",
            "x = -1.92 \ty = -2.85e+01\n",
            "x = -1.72 \ty = -2.06e+01\n",
            "x = -1.52 \ty = -1.36e+01\n",
            "x = -1.31 \ty = -7.59e+00\n",
            "x = -1.11 \ty = -2.46e+00\n",
            "x = -0.91 \ty = 1.83e+00\n",
            "x = -0.71 \ty = 5.32e+00\n",
            "x = -0.51 \ty = 8.07e+00\n",
            "x = -0.30 \ty = 1.01e+01\n",
            "x = -0.10 \ty = 1.15e+01\n",
            "x = 0.10 \ty = 1.23e+01\n",
            "x = 0.30 \ty = 1.26e+01\n",
            "x = 0.51 \ty = 1.24e+01\n",
            "x = 0.71 \ty = 1.17e+01\n",
            "x = 0.91 \ty = 1.06e+01\n",
            "x = 1.11 \ty = 9.17e+00\n",
            "x = 1.31 \ty = 7.45e+00\n",
            "x = 1.52 \ty = 5.47e+00\n",
            "x = 1.72 \ty = 3.29e+00\n",
            "x = 1.92 \ty = 9.63e-01\n",
            "x = 2.12 \ty = -1.47e+00\n",
            "x = 2.32 \ty = -3.95e+00\n",
            "x = 2.53 \ty = -6.43e+00\n",
            "x = 2.73 \ty = -8.87e+00\n",
            "x = 2.93 \ty = -1.12e+01\n",
            "x = 3.13 \ty = -1.34e+01\n",
            "x = 3.33 \ty = -1.54e+01\n",
            "x = 3.54 \ty = -1.72e+01\n",
            "x = 3.74 \ty = -1.86e+01\n",
            "x = 3.94 \ty = -1.97e+01\n",
            "x = 4.14 \ty = -2.05e+01\n",
            "x = 4.34 \ty = -2.07e+01\n",
            "x = 4.55 \ty = -2.05e+01\n",
            "x = 4.75 \ty = -1.98e+01\n",
            "x = 4.95 \ty = -1.84e+01\n",
            "x = 5.15 \ty = -1.64e+01\n",
            "x = 5.35 \ty = -1.38e+01\n",
            "x = 5.56 \ty = -1.04e+01\n",
            "x = 5.76 \ty = -6.16e+00\n",
            "x = 5.96 \ty = -1.11e+00\n",
            "x = 6.16 \ty = 4.82e+00\n",
            "x = 6.36 \ty = 1.17e+01\n",
            "x = 6.57 \ty = 1.95e+01\n",
            "x = 6.77 \ty = 2.84e+01\n",
            "x = 6.97 \ty = 3.84e+01\n",
            "x = 7.17 \ty = 4.95e+01\n",
            "x = 7.37 \ty = 6.18e+01\n",
            "x = 7.58 \ty = 7.53e+01\n",
            "x = 7.78 \ty = 9.02e+01\n",
            "x = 7.98 \ty = 1.06e+02\n",
            "x = 8.18 \ty = 1.24e+02\n",
            "x = 8.38 \ty = 1.43e+02\n",
            "x = 8.59 \ty = 1.63e+02\n",
            "x = 8.79 \ty = 1.85e+02\n",
            "x = 8.99 \ty = 2.09e+02\n",
            "x = 9.19 \ty = 2.34e+02\n",
            "x = 9.39 \ty = 2.61e+02\n",
            "x = 9.60 \ty = 2.89e+02\n",
            "x = 9.80 \ty = 3.20e+02\n",
            "x = 10.00 \ty = 3.52e+02\n"
          ]
        },
        {
          "output_type": "execute_result",
          "data": {
            "text/plain": [
              "[-1728.0,\n",
              " -1639.8048354167117,\n",
              " -1554.580301535918,\n",
              " -1472.2769290703177,\n",
              " -1392.8452487326072,\n",
              " -1316.235791235485,\n",
              " -1242.399087291649,\n",
              " -1171.2856676137978,\n",
              " -1102.8460629146275,\n",
              " -1037.0308039068368,\n",
              " -973.7904213031238,\n",
              " -913.0754458161864,\n",
              " -854.8364081587223,\n",
              " -799.0238390434289,\n",
              " -745.5882691830043,\n",
              " -694.4802292901467,\n",
              " -645.6502500775536,\n",
              " -599.0488622579225,\n",
              " -554.626596543952,\n",
              " -512.3339836483393,\n",
              " -472.12155428378253,\n",
              " -433.93983916297975,\n",
              " -397.7393689986282,\n",
              " -363.4706745034263,\n",
              " -331.0842863900715,\n",
              " -300.5307353712619,\n",
              " -271.76055215969507,\n",
              " -244.72426746806917,\n",
              " -219.37241200908173,\n",
              " -195.65551649543085,\n",
              " -173.52411163981412,\n",
              " -152.92872815492962,\n",
              " -133.81989675347498,\n",
              " -116.14814814814812,\n",
              " -99.86401305164698,\n",
              " -84.91802217666924,\n",
              " -71.26070623591286,\n",
              " -58.842595942075576,\n",
              " -47.614222007855325,\n",
              " -37.52611514594985,\n",
              " -28.52880606905704,\n",
              " -20.572825489874802,\n",
              " -13.608704121100828,\n",
              " -7.586972675433039,\n",
              " -2.458161865569263,\n",
              " 1.8271975957926188,\n",
              " 5.318574995954847,\n",
              " 8.065439622219541,\n",
              " 10.117260761888863,\n",
              " 11.523507702264975,\n",
              " 12.333649730650034,\n",
              " 12.597156134346218,\n",
              " 12.363496200655675,\n",
              " 11.682139216880568,\n",
              " 10.60255447032307,\n",
              " 9.174211248285324,\n",
              " 7.446578838069502,\n",
              " 5.469126526977762,\n",
              " 3.2913236023122874,\n",
              " 0.9626393513752021,\n",
              " -1.4674569385313134,\n",
              " -3.9494959801051053,\n",
              " -6.434008486043975,\n",
              " -8.871525169045825,\n",
              " -11.212576741808455,\n",
              " -13.407693917029704,\n",
              " -15.407407407407405,\n",
              " -17.162247925639413,\n",
              " -18.622746184423562,\n",
              " -19.739432896457686,\n",
              " -20.462838774439618,\n",
              " -20.743494531067228,\n",
              " -20.531930879038292,\n",
              " -19.778678531050744,\n",
              " -18.43426819980234,\n",
              " -16.44923059799094,\n",
              " -13.774096438314402,\n",
              " -10.3593964334705,\n",
              " -6.155661296157206,\n",
              " -1.113421739072237,\n",
              " 4.816791525086629,\n",
              " 11.684447783621309,\n",
              " 19.539016323834105,\n",
              " 28.429966433027374,\n",
              " 38.40676739850289,\n",
              " 49.518888507563176,\n",
              " 61.81579904751011,\n",
              " 75.34696830564592,\n",
              " 90.16186556927303,\n",
              " 106.30996012569318,\n",
              " 123.84072126220863,\n",
              " 142.80361826612216,\n",
              " 163.24812042473496,\n",
              " 185.22369702535005,\n",
              " 208.77981735526873,\n",
              " 233.96595070179373,\n",
              " 260.8315663522275,\n",
              " 289.4261335938715,\n",
              " 319.7991217140285,\n",
              " 352.0]"
            ]
          },
          "metadata": {},
          "execution_count": 13
        }
      ]
    },
    {
      "cell_type": "code",
      "source": [
        "from matplotlib import pyplot as plt\n",
        "\n",
        "# Graficar la función\n",
        "plt.plot(Xs, Ys, marker=\".\", color=\"red\", linestyle=\":\")\n",
        "plt.xlabel(\"Eje x\")\n",
        "plt.ylabel(\"Eje y\")\n",
        "plt.title(\"Gráfica de función cúbica\")\n",
        "plt.grid()\n",
        "plt.legend([\"$y=x^3-7x^2+4x+12$\"])\n",
        "\n",
        "# Ajuste de los límites para hacer zoom en el área cercana a y = 0\n",
        "plt.xlim(-4, 7.5)\n",
        "plt.ylim(-25, 25)\n",
        "\n",
        "# Mostrar la gráfica\n",
        "plt.show()\n",
        "## TAREA hacer zoom de la grafica"
      ],
      "metadata": {
        "colab": {
          "base_uri": "https://localhost:8080/",
          "height": 472
        },
        "id": "drC9iWF8TS9i",
        "outputId": "64c7b839-a459-442d-9d2d-3c275ec62660"
      },
      "execution_count": 16,
      "outputs": [
        {
          "output_type": "display_data",
          "data": {
            "text/plain": [
              "<Figure size 640x480 with 1 Axes>"
            ],
            "image/png": "[encoded data removed]"
          },
          "metadata": {}
        }
      ]
    },
    {
      "cell_type": "code",
      "source": [],
      "metadata": {
        "id": "VD7eR23wTYdL"
      },
      "execution_count": null,
      "outputs": []
    }
  ]
}