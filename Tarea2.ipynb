{
  "nbformat": 4,
  "nbformat_minor": 0,
  "metadata": {
    "colab": {
      "provenance": [],
      "authorship_tag": "ABX9TyMYzrZDv12hO8z2Z+zXHZVN",
      "include_colab_link": true
    },
    "kernelspec": {
      "name": "python3",
      "display_name": "Python 3"
    },
    "language_info": {
      "name": "python"
    }
  },
  "cells": [
    {
      "cell_type": "markdown",
      "metadata": {
        "id": "view-in-github",
        "colab_type": "text"
      },
      "source": [
        "<a href=\"https://colab.research.google.com/github/DavidEgas2004/MetodosNumericos/blob/main/Tarea2.ipynb\" target=\"_parent\"><img src=\"https://colab.research.google.com/assets/colab-badge.svg\" alt=\"Open In Colab\"/></a>"
      ]
    },
    {
      "cell_type": "markdown",
      "source": [
        "# Tarea 2\n",
        "Nombre: David Egas\n",
        "\n",
        "Materia: Metodos Numericos"
      ],
      "metadata": {
        "id": "wcBNdQ19oA-s"
      }
    },
    {
      "cell_type": "markdown",
      "source": [
        "## Ejercicio 2: Serie de Mclaurin\n",
        "\n",
        "Utilice el hecho de que tan 𝜋⁄4 = 1 para determinar el número n de términos de la serie que se necesita\n",
        "sumar para garantizar que |4𝑃𝑛(1) − 𝜋| < $10^-3$\n",
        "\n",
        "Se sabe que arctan 1= $\\pi$ /4 con x=1 tenemos:"
      ],
      "metadata": {
        "id": "JBD-iqdxoa3L"
      }
    },
    {
      "cell_type": "code",
      "execution_count": 4,
      "metadata": {
        "colab": {
          "base_uri": "https://localhost:8080/",
          "height": 0
        },
        "id": "YOBS8Hg1_ea-",
        "outputId": "545a91ea-3a97-47a0-dbca-db68543fbcd1"
      },
      "outputs": [
        {
          "output_type": "stream",
          "name": "stdout",
          "text": [
            "0.7853981633974483\n"
          ]
        }
      ],
      "source": [
        "#Lit a: Usando el hecho que se debe acercar a dicho valor\n",
        "import math\n",
        "x=math.pi/4\n",
        "print(x)"
      ]
    },
    {
      "cell_type": "markdown",
      "source": [
        "Remplazamos en codigo la formula proporcionada"
      ],
      "metadata": {
        "id": "Wt2gi7ZjsKdM"
      }
    },
    {
      "cell_type": "code",
      "source": [
        "\n",
        "#A continuacion se presenta el codigo para que n se aproxime al valor anterior\n",
        "suma=0\n",
        "n=10000  #-> valor obtenido por aproximacion(prueba y error)\n",
        "for i in range (1, n-1):\n",
        "  suma +=( ((-1)**(i+1))*(1**(2*i-1)/(2*i-1)))\n",
        "print(suma)"
      ],
      "metadata": {
        "colab": {
          "base_uri": "https://localhost:8080/",
          "height": 0
        },
        "id": "OyDw21K5rUl_",
        "outputId": "9deac734-51bf-4200-e8b3-e4cf506a9ee1"
      },
      "execution_count": 3,
      "outputs": [
        {
          "output_type": "stream",
          "name": "stdout",
          "text": [
            "0.7853731583965085\n"
          ]
        }
      ]
    },
    {
      "cell_type": "markdown",
      "source": [
        "Ahora con el valor obtenido vamos a calcular si este valor esta dentro de la tolerancia."
      ],
      "metadata": {
        "id": "iyRIU1fVtGAs"
      }
    },
    {
      "cell_type": "code",
      "source": [
        "\n",
        "total= abs(4*suma-math.pi)\n",
        "print(total <10**(-3)) #-> se comprueba directamente que no se exceda el nivel de tolerancia"
      ],
      "metadata": {
        "colab": {
          "base_uri": "https://localhost:8080/",
          "height": 0
        },
        "id": "ioNTZSo8tFkU",
        "outputId": "7fce483d-41ed-4b7a-b2ea-403be507ed0e"
      },
      "execution_count": 5,
      "outputs": [
        {
          "output_type": "stream",
          "name": "stdout",
          "text": [
            "True\n"
          ]
        }
      ]
    },
    {
      "cell_type": "markdown",
      "source": [
        "Litera b.\n",
        "El lenguaje de programación C++ requiere que el valor de 𝜋 se encuentre dentro de $10^10$. ¿Cuántos\n",
        "términos de la serie se necesitarían sumar para obtener este grado de precisión?\n",
        "\n",
        "Respuesta:\n",
        "\n",
        "Para calcular el numero de decimales que se necesitan para alcanzar esta tolerancia de error es muy dificil ya que se tendria que realizar una suma infinita de la funcion P$_n$($\\pi$)."
      ],
      "metadata": {
        "id": "rTcxGKW5E7OD"
      }
    },
    {
      "cell_type": "markdown",
      "source": [
        "##Ejercicio 3:\n",
        "Otra fórmula para calcular 𝜋 se puede deducir a partir de la identidad 𝜋⁄4 = 4 arctan $1/5$− arctan $1/239$.\n",
        "Determine el número de términos que se deben sumar para garantizar una aproximación 𝜋 dentro de 10−3\n",
        "\n"
      ],
      "metadata": {
        "id": "cyuX6OUNHYrZ"
      }
    },
    {
      "cell_type": "code",
      "source": [
        "import numpy as np\n",
        "import math\n",
        "\n",
        "n = 16\n",
        "sum_pi = sum((4 * np.arctan(1 / 5) - np.arctan(1 / 239)) / 4 for _ in range(n))\n",
        "\n",
        "print(sum_pi)\n",
        "print(abs(math.pi - sum_pi))\n"
      ],
      "metadata": {
        "colab": {
          "base_uri": "https://localhost:8080/",
          "height": 0
        },
        "id": "BA0QDuNwH7qv",
        "outputId": "1afb45a8-5401-45ca-9a35-298ef6e7970c"
      },
      "execution_count": 8,
      "outputs": [
        {
          "output_type": "stream",
          "name": "stdout",
          "text": [
            "3.1415926535897944\n",
            "1.3322676295501878e-15\n"
          ]
        }
      ]
    },
    {
      "cell_type": "markdown",
      "source": [
        "Podemos observar que n=16 y posee una pequeña diferencia con el valor real de $\\pi$"
      ],
      "metadata": {
        "id": "45fbdpbfImEc"
      }
    },
    {
      "cell_type": "markdown",
      "source": [
        "## Ejercicio 5:\n",
        "¿Cuántas multiplicaciones y sumas se requieren para determinar una suma de la forma\n",
        "$$\n",
        "\\sum_{i=1}^{n} \\sum_{j=1}^{i} a_i b_j$$\n",
        "\n",
        "Respuesta: Siendo el sumatorio externo $$\\sum_{i=1}^{n}$$ podemos observar que recorre los valores de\n",
        "i desde 1 hasta\n",
        "n. Cada valor de i representa un \"nivel\" de la suma total, mientras que la sumatoria externa $$\\sum_{j=1}^{i} a_i b_j$$ depende del valor de i que realizando la expansion podemos determnar que:\n",
        "\n",
        "el numero de multiplicaciones que se realizan es n=i mientras que el numero de sumas corresponde a la siguiente expresion $$\\frac{n(n+1)}{2}$$\n",
        "\n"
      ],
      "metadata": {
        "id": "7ZZfbulKI4Tl"
      }
    },
    {
      "cell_type": "markdown",
      "source": [
        "Modifique la suma en la parte a) a un formato equivalente que reduzca el número de cálculos\n",
        "\n",
        "Reorganizacion de la suma: Dado que cada termino b$_j$ aparece repetidamente en cada sumando de a$_i$ podemos agrupar la suma según los términos b$_j$, para reducir la cantidad de multiplicaciones.\n",
        "\n",
        "Cambio en el orden de las sumatorias:\n",
        "$$\n",
        "\\sum_{j=1}^{n} b_j \\sum_{i=j}^{n} a_i\n",
        "$$\n",
        "disminuye el número de operaciones, especialmente el número de multiplicaciones\n",
        "\n"
      ],
      "metadata": {
        "id": "ydw2NBJdOUcw"
      }
    },
    {
      "cell_type": "markdown",
      "source": [
        "Discucion:\n",
        "\n",
        "Cree un algoritmo de entradas a,b,c y salida x$_1$ y x$_2$ que calcule dichas raices (que pueden ser iguales con conjugados complejos) mediante la mejor fórmula para cada raíz"
      ],
      "metadata": {
        "id": "tkGK3KjjP7nG"
      }
    },
    {
      "cell_type": "code",
      "source": [
        "import cmath\n",
        "\n",
        "def calcular_raices(a, b, c):\n",
        "    # Calcular el discriminante\n",
        "    discriminante = b**2 - 4 * a * c #-> saber si las raices son complejas o no\n",
        "\n",
        "    # Calcular la raíz cuadrada del discriminante\n",
        "    sqrt_discriminante = cmath.sqrt(discriminante)\n",
        "\n",
        "    # Calcular q según el signo de b para mejorar la precisión\n",
        "    if b > 0:\n",
        "        q = -0.5 * (b + sqrt_discriminante)\n",
        "    else:\n",
        "        q = -0.5 * (b - sqrt_discriminante)\n",
        "\n",
        "    # Calcular las raíces utilizando q para mejorar la precisión\n",
        "    x1 = q / a\n",
        "    x2 = c / q if q != 0 else 0  # Prevención de división por cero\n",
        "\n",
        "    return x1, x2\n",
        "\n",
        "# Ejemplo de uso\n",
        "a = 1\n",
        "b = -1\n",
        "c = 2\n",
        "x1, x2 = calcular_raices(a, b, c)\n",
        "print(\"Las raíces son:\")\n",
        "print(\"x1 =\", x1)\n",
        "print(\"x2 =\", x2)\n"
      ],
      "metadata": {
        "colab": {
          "base_uri": "https://localhost:8080/",
          "height": 0
        },
        "id": "zaqu9HQDIU1h",
        "outputId": "0c045bc9-b402-4dbb-f003-cee8ce1ae4e7"
      },
      "execution_count": 11,
      "outputs": [
        {
          "output_type": "stream",
          "name": "stdout",
          "text": [
            "Las raíces son:\n",
            "x1 = (0.5+1.3228756555322954j)\n",
            "x2 = (0.49999999999999994-1.3228756555322951j)\n"
          ]
        }
      ]
    }
  ]
}