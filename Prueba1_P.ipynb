{
  "nbformat": 4,
  "nbformat_minor": 0,
  "metadata": {
    "colab": {
      "provenance": [],
      "authorship_tag": "ABX9TyPL1TJhvEDggYkBKNSTqYxO",
      "include_colab_link": true
    },
    "kernelspec": {
      "name": "python3",
      "display_name": "Python 3"
    },
    "language_info": {
      "name": "python"
    }
  },
  "cells": [
    {
      "cell_type": "markdown",
      "metadata": {
        "id": "view-in-github",
        "colab_type": "text"
      },
      "source": [
        "<a href=\"https://colab.research.google.com/github/DavidEgas2004/MetodosNumericos/blob/main/Prueba1_P.ipynb\" target=\"_parent\"><img src=\"https://colab.research.google.com/assets/colab-badge.svg\" alt=\"Open In Colab\"/></a>"
      ]
    },
    {
      "cell_type": "code",
      "source": [
        "##Reusando el codigo usando en clase para realizar el grafico de la funcion tenemos:\n",
        "def eqn(x: int) -> int:\n",
        "    return x**2 - 6 * x + 5"
      ],
      "metadata": {
        "id": "5fm5t2Ktooac"
      },
      "execution_count": null,
      "outputs": []
    },
    {
      "cell_type": "code",
      "source": [
        "# generación de puntos para la gráfica\n",
        "import numpy as np\n",
        "\n",
        "Xs, step = np.linspace(-10, 10, num=100, retstep=True)\n",
        "Ys=[]\n",
        "for x in Xs:\n",
        "    y = eqn(x)\n",
        "    Ys.append(y)\n",
        "    print(f\"x = {x:.2f} \\ty = {y:.2e}\")\n"
      ],
      "metadata": {
        "id": "J-K8ONFDogKa",
        "colab": {
          "base_uri": "https://localhost:8080/"
        },
        "outputId": "710fcd45-fc87-44b6-de4c-c946b1b5b9bc"
      },
      "execution_count": null,
      "outputs": [
        {
          "output_type": "stream",
          "name": "stdout",
          "text": [
            "x = -10.00 \ty = 1.65e+02\n",
            "x = -9.80 \ty = 1.60e+02\n",
            "x = -9.60 \ty = 1.55e+02\n",
            "x = -9.39 \ty = 1.50e+02\n",
            "x = -9.19 \ty = 1.45e+02\n",
            "x = -8.99 \ty = 1.40e+02\n",
            "x = -8.79 \ty = 1.35e+02\n",
            "x = -8.59 \ty = 1.30e+02\n",
            "x = -8.38 \ty = 1.26e+02\n",
            "x = -8.18 \ty = 1.21e+02\n",
            "x = -7.98 \ty = 1.17e+02\n",
            "x = -7.78 \ty = 1.12e+02\n",
            "x = -7.58 \ty = 1.08e+02\n",
            "x = -7.37 \ty = 1.04e+02\n",
            "x = -7.17 \ty = 9.95e+01\n",
            "x = -6.97 \ty = 9.54e+01\n",
            "x = -6.77 \ty = 9.14e+01\n",
            "x = -6.57 \ty = 8.75e+01\n",
            "x = -6.36 \ty = 8.37e+01\n",
            "x = -6.16 \ty = 7.99e+01\n",
            "x = -5.96 \ty = 7.63e+01\n",
            "x = -5.76 \ty = 7.27e+01\n",
            "x = -5.56 \ty = 6.92e+01\n",
            "x = -5.35 \ty = 6.58e+01\n",
            "x = -5.15 \ty = 6.24e+01\n",
            "x = -4.95 \ty = 5.92e+01\n",
            "x = -4.75 \ty = 5.60e+01\n",
            "x = -4.55 \ty = 5.29e+01\n",
            "x = -4.34 \ty = 4.99e+01\n",
            "x = -4.14 \ty = 4.70e+01\n",
            "x = -3.94 \ty = 4.42e+01\n",
            "x = -3.74 \ty = 4.14e+01\n",
            "x = -3.54 \ty = 3.87e+01\n",
            "x = -3.33 \ty = 3.61e+01\n",
            "x = -3.13 \ty = 3.36e+01\n",
            "x = -2.93 \ty = 3.12e+01\n",
            "x = -2.73 \ty = 2.88e+01\n",
            "x = -2.53 \ty = 2.65e+01\n",
            "x = -2.32 \ty = 2.43e+01\n",
            "x = -2.12 \ty = 2.22e+01\n",
            "x = -1.92 \ty = 2.02e+01\n",
            "x = -1.72 \ty = 1.83e+01\n",
            "x = -1.52 \ty = 1.64e+01\n",
            "x = -1.31 \ty = 1.46e+01\n",
            "x = -1.11 \ty = 1.29e+01\n",
            "x = -0.91 \ty = 1.13e+01\n",
            "x = -0.71 \ty = 9.74e+00\n",
            "x = -0.51 \ty = 8.29e+00\n",
            "x = -0.30 \ty = 6.91e+00\n",
            "x = -0.10 \ty = 5.62e+00\n",
            "x = 0.10 \ty = 4.40e+00\n",
            "x = 0.30 \ty = 3.27e+00\n",
            "x = 0.51 \ty = 2.22e+00\n",
            "x = 0.71 \ty = 1.26e+00\n",
            "x = 0.91 \ty = 3.72e-01\n",
            "x = 1.11 \ty = -4.32e-01\n",
            "x = 1.31 \ty = -1.15e+00\n",
            "x = 1.52 \ty = -1.80e+00\n",
            "x = 1.72 \ty = -2.35e+00\n",
            "x = 1.92 \ty = -2.83e+00\n",
            "x = 2.12 \ty = -3.23e+00\n",
            "x = 2.32 \ty = -3.54e+00\n",
            "x = 2.53 \ty = -3.77e+00\n",
            "x = 2.73 \ty = -3.93e+00\n",
            "x = 2.93 \ty = -4.00e+00\n",
            "x = 3.13 \ty = -3.98e+00\n",
            "x = 3.33 \ty = -3.89e+00\n",
            "x = 3.54 \ty = -3.71e+00\n",
            "x = 3.74 \ty = -3.46e+00\n",
            "x = 3.94 \ty = -3.12e+00\n",
            "x = 4.14 \ty = -2.70e+00\n",
            "x = 4.34 \ty = -2.20e+00\n",
            "x = 4.55 \ty = -1.61e+00\n",
            "x = 4.75 \ty = -9.46e-01\n",
            "x = 4.95 \ty = -1.99e-01\n",
            "x = 5.15 \ty = 6.29e-01\n",
            "x = 5.35 \ty = 1.54e+00\n",
            "x = 5.56 \ty = 2.53e+00\n",
            "x = 5.76 \ty = 3.60e+00\n",
            "x = 5.96 \ty = 4.76e+00\n",
            "x = 6.16 \ty = 6.00e+00\n",
            "x = 6.36 \ty = 7.31e+00\n",
            "x = 6.57 \ty = 8.71e+00\n",
            "x = 6.77 \ty = 1.02e+01\n",
            "x = 6.97 \ty = 1.18e+01\n",
            "x = 7.17 \ty = 1.34e+01\n",
            "x = 7.37 \ty = 1.51e+01\n",
            "x = 7.58 \ty = 1.69e+01\n",
            "x = 7.78 \ty = 1.88e+01\n",
            "x = 7.98 \ty = 2.08e+01\n",
            "x = 8.18 \ty = 2.29e+01\n",
            "x = 8.38 \ty = 2.50e+01\n",
            "x = 8.59 \ty = 2.72e+01\n",
            "x = 8.79 \ty = 2.95e+01\n",
            "x = 8.99 \ty = 3.19e+01\n",
            "x = 9.19 \ty = 3.43e+01\n",
            "x = 9.39 \ty = 3.69e+01\n",
            "x = 9.60 \ty = 3.95e+01\n",
            "x = 9.80 \ty = 4.22e+01\n",
            "x = 10.00 \ty = 4.50e+01\n"
          ]
        }
      ]
    },
    {
      "cell_type": "code",
      "execution_count": null,
      "metadata": {
        "id": "LJ-f__zAl_rK",
        "colab": {
          "base_uri": "https://localhost:8080/",
          "height": 473
        },
        "outputId": "19e4947d-f335-447b-d05b-624039f533d6"
      },
      "outputs": [
        {
          "output_type": "stream",
          "name": "stdout",
          "text": [
            "No se puede aplicar el método de Bisección en el intervalo dado.\n"
          ]
        },
        {
          "output_type": "display_data",
          "data": {
            "text/plain": [
              "<Figure size 640x480 with 1 Axes>"
            ],
            "image/png": "[encoded data removed]"
          },
          "metadata": {}
        }
      ],
      "source": [
        "from matplotlib import pyplot as plt\n",
        "\n",
        "# Graficar la función\n",
        "plt.plot(Xs, Ys, marker=\".\", color=\"red\", linestyle=\":\")\n",
        "plt.xlabel(\"Eje x\")\n",
        "plt.ylabel(\"Eje y\")\n",
        "plt.grid()\n",
        "plt.legend([\"$y=x^2-6x+5$\"])\n",
        "plt.xlim(0, 5.5)\n",
        "plt.ylim(-4.5, 1)\n",
        "\n",
        "def biseccion(func, a, b, tol=1e-5, max_iter=100):\n",
        "    # Verificar si el método es aplicable\n",
        "    if func(a) * func(b) >= 0:\n",
        "        print(\"No se puede aplicar el método de Bisección en el intervalo dado.\")\n",
        "        return None\n",
        "\n",
        "    # Variables para el proceso iterativo\n",
        "    iter_count = 0\n",
        "    while (b - a) / 2 > tol and iter_count < max_iter:\n",
        "        # Punto medio\n",
        "        p = (a + b) / 2\n",
        "        print(f\"Iteración {iter_count + 1}: a = {a}, b = {b}, p = {p}, f(p) = {func(p)}\")\n",
        "\n",
        "        # Verificar si encontramos la raíz o aplicamos el método de Bisección\n",
        "        if func(p) == 0 or (b - a) / 2 < tol:\n",
        "            return p\n",
        "        iter_count += 1\n",
        "\n",
        "        # Actualizar los límites del intervalo\n",
        "        if func(a) * func(p) < 0:\n",
        "            b = p\n",
        "        else:\n",
        "            a = p\n",
        "\n",
        "    return (a + b) / 2  # Retornar el punto medio como aproximación de la raíz\n",
        "\n",
        " # Aplicar el método de Bisección en un intervalo para buscar raíces\n",
        "a, b = 1.5, 4  # Intervalo donde queremos aplicar el método\n",
        "raiz = biseccion(eqn, a, b)\n",
        "\n",
        "\n",
        "\n",
        "if raiz is not None:\n",
        "    print(f\"La raíz aproximada en el intervalo [{a}, {b}] es: {raiz}\")"
      ]
    }
  ]
}